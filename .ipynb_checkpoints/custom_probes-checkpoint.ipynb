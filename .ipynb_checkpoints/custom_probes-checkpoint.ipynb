{
 "cells": [
  {
   "cell_type": "markdown",
   "id": "7727be1d-a5e3-4fb0-b3f4-40b67c06ddb0",
   "metadata": {},
   "source": [
    "Checking the length of the total sequence for the custom gtf"
   ]
  },
  {
   "cell_type": "code",
   "execution_count": 1,
   "id": "8b025182-152a-482d-adc6-a31400b18208",
   "metadata": {},
   "outputs": [],
   "source": [
    "gene_file = \"/nfs/turbo/umms-yangxa/Users/gbolden/python_code/mitotimer_fastas/MitoTimer_Gene.fa\""
   ]
  },
  {
   "cell_type": "markdown",
   "id": "1104845b-1880-4126-af3f-9b458fbf1d79",
   "metadata": {},
   "source": [
    "Open the file, skip the first line. Join into a string for each into the lines in the sequence"
   ]
  },
  {
   "cell_type": "code",
   "execution_count": 2,
   "id": "f50346e0-7b1b-4af5-9593-5ce4d5759994",
   "metadata": {},
   "outputs": [],
   "source": [
    "with open(gene_file, \"r\") as fasta:\n",
    "    lines = fasta.readlines()[1:]\n",
    "    full_seq = ''.join(line.strip().upper() for line in lines)"
   ]
  },
  {
   "cell_type": "markdown",
   "id": "cfdaf4ad-95b8-46ba-97fe-c4d4d3bb75c0",
   "metadata": {},
   "source": [
    "Check the length of the gene"
   ]
  },
  {
   "cell_type": "code",
   "execution_count": 3,
   "id": "3b4759b0-d7f1-4e29-b946-c1d5cfeb4b8a",
   "metadata": {},
   "outputs": [
    {
     "name": "stdout",
     "output_type": "stream",
     "text": [
      "592\n"
     ]
    }
   ],
   "source": [
    "print(len(full_seq))"
   ]
  },
  {
   "cell_type": "code",
   "execution_count": 4,
   "id": "04d4746c-7812-4e48-8093-83490e4e536a",
   "metadata": {},
   "outputs": [],
   "source": [
    "import re\n",
    "import random\n",
    "with open(gene_file,\"r\") as file:\n",
    "    lines = file.readlines()[1:]\n",
    "    caps = ''.join(line.strip().upper() for line in lines)"
   ]
  },
  {
   "cell_type": "markdown",
   "id": "c11d3689-49a3-4dc6-bbb0-9d6785ded5f1",
   "metadata": {},
   "source": [
    "New conditions just dropped lolololol (7/15/2025) Making choose_idx_ver2 obsolete yaaaay"
   ]
  },
  {
   "cell_type": "markdown",
   "id": "e8b17402-b88e-40a3-889f-bd13a3793907",
   "metadata": {},
   "source": [
    "GC content should be between 44 − 72% for each\n",
    "25 bp probe half. both LHS and RHS must have a 44 - 72% GC content"
   ]
  },
  {
   "cell_type": "code",
   "execution_count": 5,
   "id": "28777c8c-f1e1-4ad4-8296-1edfe96357f2",
   "metadata": {},
   "outputs": [],
   "source": [
    "# reverse translation\n",
    "# this function returns the reverse complement of the entered sequence\n",
    "def rev_complement(seq):\n",
    "    rules = {\"A\" : \"T\", \"G\" : \"C\", \"T\" : \"A\", \"C\" : \"G\"}\n",
    "    comp = ''.join([rules[n] for n in seq])\n",
    "    return comp[::-1]"
   ]
  },
  {
   "cell_type": "code",
   "execution_count": 6,
   "id": "3cf087ae-293c-4b83-b070-a88159d3129d",
   "metadata": {},
   "outputs": [],
   "source": [
    "def check_gc_content(seqs, min_gc = 0.44, max_gc=0.72):\n",
    "    for extracted_seqs in seqs:\n",
    "        # First half: LHS (1st–25th nt)\n",
    "        lhs = extracted_seqs[:25]\n",
    "        # intitialize a count for Gs and Cs\n",
    "        G_cnt = 0\n",
    "        C_cnt = 0\n",
    "        # for each nucleotide in the lhs, \n",
    "        for nt in lhs:\n",
    "            # Add it to the G count or add it to the C count if its a C\n",
    "            if nt == \"G\":\n",
    "                G_cnt += 1\n",
    "            if nt == \"C\":\n",
    "                C_cnt += 1\n",
    "        # GC content = G_cnt + Cnt divided by the whole length of the lhs 25nucleotides\n",
    "        GC_content = (G_cnt + C_cnt) / len(lhs)\n",
    "        # if the GC_content is not within the limits return false\n",
    "        if not (min_gc <= GC_content <= max_gc):\n",
    "            return False\n",
    "\n",
    "        # repeat for the RHS\n",
    "        # Second half: RHS (26th–50th nt)\n",
    "        rhs = extracted_seqs[25:]\n",
    "        G_cnt = 0\n",
    "        C_cnt = 0\n",
    "        for nt in rhs:\n",
    "            if nt == \"G\":\n",
    "                G_cnt += 1\n",
    "            if nt == \"C\":\n",
    "                C_cnt += 1\n",
    "        GC_content = (G_cnt + C_cnt) / len(rhs)\n",
    "        if not (min_gc <= GC_content <= max_gc):\n",
    "            return False\n",
    "\n",
    "    return True \n",
    "# This has been through manual review: it's good to go"
   ]
  },
  {
   "cell_type": "code",
   "execution_count": 7,
   "id": "9460d4e7-cc1f-4c60-bd68-15e4a0267516",
   "metadata": {},
   "outputs": [],
   "source": [
    "#number of sequences to consider\n",
    "def contains_palindrom(seqs, min_length=4):\n",
    "    for extracted_seq in seqs:\n",
    "        # for each extracted_sequence split into a halfs LHS and RHS\n",
    "        lhs = extracted_seq[:25]\n",
    "        rhs = extracted_seq[25:]\n",
    "\n",
    "        lhs_has_palindrome = False\n",
    "        rhs_has_palindrome = False\n",
    "\n",
    "        # Check LHS for palindromes\n",
    "        # for i in range of length of the lhs minus the minimum length set by user inclusive\n",
    "        # this is so we don't go out of bound of the whole lhs\n",
    "        for i in range(len(lhs) - min_length + 1):\n",
    "            # Here we want the range of the subequence up to the length of lhs minus the limit\n",
    "            for l in range(min_length, len(lhs) - i + 1):\n",
    "                # define each subsequence as  the current nucleotide to the nucleotide + \n",
    "                subseq = lhs[i:i+l]\n",
    "                # if the subsequence is a match for the reverse complement of subseq\n",
    "                # then that is a palindrome\n",
    "                # break the loop and try again\n",
    "                if subseq == rev_complement(subseq):\n",
    "                    lhs_has_palindrome = True\n",
    "                    break\n",
    "            if lhs_has_palindrome:\n",
    "                break\n",
    "\n",
    "        # Check RHS for palindromes\n",
    "        for i in range(len(rhs) - min_length + 1):\n",
    "            for l in range(min_length, len(rhs) - i + 1):\n",
    "                subseq = rhs[i:i+l]\n",
    "                if subseq == rev_complement(subseq):\n",
    "                    rhs_has_palindrome = True\n",
    "                    break\n",
    "            if rhs_has_palindrome:\n",
    "                break\n",
    "        \n",
    "        if lhs_has_palindrome or rhs_has_palindrome:\n",
    "            return True\n",
    "\n",
    "    return False  # No palindromes found in any seq\n"
   ]
  },
  {
   "cell_type": "code",
   "execution_count": 8,
   "id": "939c4029-704d-4afa-9ef4-92b7b445fb2f",
   "metadata": {},
   "outputs": [],
   "source": [
    "def check_complementary_ends(seqs, window=6):\n",
    "    for extracted_seq in seqs:\n",
    "\n",
    "        lhs = extracted_seq[:25]\n",
    "        rhs = extracted_seq[25:]\n",
    "        # initialize the variable False\n",
    "        lhs_has_comp_end = False\n",
    "        rhs_has_comp_end = False\n",
    "\n",
    "        # Check if 3' end of LHS complements the 5' end of LHS\n",
    "        # the the total length of the lhs is greater than equal to 2 * user's window\n",
    "        if len(lhs) >= 2 * window:\n",
    "            #Define 5 prime end as beginning of the LHS + the user's window\n",
    "            lhs_5p = lhs[:window]\n",
    "            # Define the 3 prime end of LHS to user's window\n",
    "            lhs_3p = lhs[-window:]\n",
    "            # if the reverse complement of the 3' end is th\n",
    "            if rev_complement(lhs_3p) == lhs_5p:\n",
    "                lhs_has_comp_end = True\n",
    "\n",
    "        # Check if 3' end of RHS complements the 5' end of RHS\n",
    "        if len(rhs) >= 2 * window:\n",
    "            rhs_5p = rhs[:window]\n",
    "            rhs_3p = rhs[-window:]\n",
    "            if rev_complement(rhs_3p) == rhs_5p:\n",
    "                rhs_has_comp_end = True\n",
    "\n",
    "        # If either side has complementary ends, return True (i.e., sequence should be rejected)\n",
    "        if lhs_has_comp_end or rhs_has_comp_end:\n",
    "            return True\n",
    "\n",
    "    # No complementary ends found across all sequences\n",
    "    return False\n",
    "\n",
    "#Been through manual review it's good."
   ]
  },
  {
   "cell_type": "code",
   "execution_count": 9,
   "id": "b7b67732-a750-46ca-a41e-3be87d142f07",
   "metadata": {},
   "outputs": [],
   "source": [
    "def check_internal_complementarity(seqs, window=6):\n",
    "    for extracted_seq in seqs:\n",
    "\n",
    "        lhs = extracted_seq[:25]\n",
    "        rhs = extracted_seq[25:]\n",
    "\n",
    "        lhs_internal_comp = False\n",
    "        rhs_internal_comp = False\n",
    "\n",
    "        # Get 3' end of LHS\n",
    "        if len(lhs) >= 2 * window:\n",
    "            lhs_tail = lhs[-window:]\n",
    "            rev_lhs_tail = rev_complement(lhs_tail)\n",
    "\n",
    "            # Scan rest of LHS (excluding last window) for complementary region\n",
    "            for i in range(len(lhs) - 2 * window + 1):\n",
    "                subseq = lhs[i:i + window]\n",
    "                if subseq == rev_lhs_tail:\n",
    "                    lhs_internal_comp = True\n",
    "                    break\n",
    "\n",
    "        # Get 3' end of RHS\n",
    "        if len(rhs) >= 2 * window:\n",
    "            rhs_tail = rhs[-window:]\n",
    "            rev_rhs_tail = rev_complement(rhs_tail)\n",
    "\n",
    "            # Scan rest of RHS (excluding last window) for complementary region\n",
    "            for i in range(len(rhs) - 2 * window + 1):\n",
    "                subseq = rhs[i:i + window]\n",
    "                if subseq == rev_rhs_tail:\n",
    "                    rhs_internal_comp = True\n",
    "                    break\n",
    "\n",
    "        # If either side shows internal complementarity, reject\n",
    "        if lhs_internal_comp or rhs_internal_comp:\n",
    "            return True\n",
    "\n",
    "    return False"
   ]
  },
  {
   "cell_type": "code",
   "execution_count": 10,
   "id": "93c31de6-4664-4337-9be2-50327598f012",
   "metadata": {},
   "outputs": [],
   "source": [
    "# homopolymer check\n",
    "# for each extracted sequence\n",
    "# iteration for each sequence will take place in the master_check function\n",
    "def homopolymer_check(seqs, max_repeats=5):\n",
    "    for extracted_seqs in seqs:\n",
    "        repeat_count = 1\n",
    "        # for i in range of the second nt to len(extracted seq)\n",
    "        for i in range(1, len(extracted_seqs)):\n",
    "            if extracted_seqs[i] == extracted_seqs[i - 1]:\n",
    "                repeat_count += 1\n",
    "                if repeat_count > max_repeats:\n",
    "                    return False\n",
    "            else:\n",
    "                repeat_count = 1\n",
    "    return True"
   ]
  },
  {
   "cell_type": "code",
   "execution_count": 16,
   "id": "35fc1d61-240d-427e-bd0c-1bf2cf9fe9fc",
   "metadata": {},
   "outputs": [],
   "source": [
    "# reverse transcription sequence check\n",
    "# looks for the final check according to the protocol\n",
    "def RT_LHS_check(rev_comp_seqs):\n",
    "    for rt_seq in rev_comp_seqs:\n",
    "        if len(rt_seq) != 50:\n",
    "            return False\n",
    "        if rt_seq[24] != \"T\":\n",
    "            return False\n",
    "    return True\n",
    "# Been through manual review: It's good"
   ]
  },
  {
   "cell_type": "markdown",
   "id": "251a3d3f-66d0-4452-a79a-7dfff5ad67da",
   "metadata": {},
   "source": [
    "4. 25th nt of the LHS probe must be T\n",
    "5. The 1st nt of the RHS must be an A\n",
    "On the note of the 4th and 5th conditions:\n",
    "    the product of the reverse translation must but be a T and an A\n",
    "       **which means that the 25th nt @ LHS must be an A and**\n",
    "       **the 1st nt @ RHS must be a T**"
   ]
  },
  {
   "cell_type": "markdown",
   "id": "67b0ca37-1dd3-4382-b74d-afa325476b8b",
   "metadata": {},
   "source": [
    "1. We are doing this based on LHS (length = 25nt) and RHS (length = 25nt)\n",
    "2. GC Content should be 44% - 72% for each 25 (RHS and NHS) probe\n",
    "3. NO HOMOPOLYMER repeats, the same nt > 6nt example\n",
    "       . AAAAA = GOOD, AAAAAA = BAD\n",
    "4. 25th nt of the LHS probe must be T\n",
    "5. The 1st nt of the RHS must be an A\n",
    "On the note of the 4th and 5th conditions:\n",
    "    the product of the reverse translation must but be a T and an A\n",
    "       **which means that the 25th nt @ LHS must be an A and**\n",
    "       **the 1st nt @ RHS must be a T**"
   ]
  },
  {
   "cell_type": "markdown",
   "id": "3152a8c0-c13a-443e-81ce-173a1d19b9f1",
   "metadata": {},
   "source": [
    "Add in the new conditions (7/22/2025)\n",
    "Each of these conditions avoid secondary structures (Hairpins, Self-Dimers, homo/heterodimers)\n",
    "\n",
    "Avoid palindromic repeats\n",
    "Avoid Complementary end\n"
   ]
  },
  {
   "cell_type": "markdown",
   "id": "b0687aa7-50a3-4ce9-a53a-9185bc14b6be",
   "metadata": {},
   "source": [
    "New conditions for probes (ViennaFold + RNAcofold dependant conditions)\n"
   ]
  },
  {
   "cell_type": "code",
   "execution_count": 12,
   "id": "618c7a85-9dd6-4b7c-a53a-060f7ecd3e27",
   "metadata": {},
   "outputs": [],
   "source": [
    "def choose_idx_ver3(seq, num_rolls, seq_length, max_attempts):\n",
    "    accepted_indecies = []\n",
    "    accepted_seqs = []\n",
    "    # prevent idx being chosen as 1-50 nts away from the end of the FASTA file\n",
    "    max_start = len(seq) - seq_length\n",
    "    attempts = 0\n",
    "    #while the length of the accepted seqs is less than the number of seqs wanted (num_rolls)\n",
    "    # and the attempts is less than the max_attemps allowed for seq checks\n",
    "    while len(accepted_seqs) < num_rolls and attempts < max_attempts:\n",
    "        #randomly choose a candidate from the valid range of idxs\n",
    "        candidate_idx = random.randint(0, max_start)\n",
    "\n",
    "        #check if there is overlap with accepted indecies list\n",
    "        # for i in the idx_list if\n",
    "        #     if any of the starting_candidate idx minus the current one \n",
    "        #     in idx_list, then\n",
    "        #    for each index in the starting index list\n",
    "        #    if the difference between the candidate_idx and the current idx is\n",
    "        #    less than the subject seqlength\n",
    "        overlap = any(abs(candidate_idx - i) < seq_length for i in accepted_indecies)\n",
    "        if overlap:\n",
    "            attempts += 1\n",
    "            continue\n",
    "        candidate_seq = seq[candidate_idx:candidate_idx + seq_length]\n",
    "        rt_candidate_seq = rev_complement(candidate_seq)\n",
    "        #run candidate sequence through the condition checks\n",
    "\n",
    "        # condition check for each sequence sampled from\n",
    "        if (\n",
    "            check_gc_content([rt_candidate_seq], min_gc=0.44, max_gc=0.72) and\n",
    "            RT_LHS_check([rt_candidate_seq]) and\n",
    "            homopolymer_check([rt_candidate_seq], max_repeats=3) and\n",
    "            not contains_palindrom([rt_candidate_seq], min_length=6) and\n",
    "            not check_complementary_ends([rt_candidate_seq], window=6) and\n",
    "            not check_internal_complementarity([rt_candidate_seq], window=6)\n",
    "        ):\n",
    "            accepted_indecies.append(candidate_idx)\n",
    "            accepted_seqs.append(rt_candidate_seq)\n",
    "\n",
    "        attempts += 1\n",
    "    return accepted_indecies, accepted_seqs"
   ]
  },
  {
   "cell_type": "markdown",
   "id": "5dae276b-5524-45fb-989d-b4aa70aa7709",
   "metadata": {},
   "source": [
    "Update 7/30/2025\n",
    "New Requirements\n",
    "1. Hairpin (dependent on the delta G per each LHS/RHS)\n",
    "   \n",
    "2. Self-dimer (dependent on the delta G per each LHS/RHS)\n",
    "\n",
    "3. Palindromic sequences (Lead to Hairpins)\n",
    "\n",
    "4. Complementary ends Check (dimer risk) \n",
    "\n"
   ]
  },
  {
   "cell_type": "code",
   "execution_count": null,
   "id": "e30f2bfd-7b45-4982-9cac-a1ed1e7c9746",
   "metadata": {},
   "outputs": [],
   "source": []
  },
  {
   "cell_type": "code",
   "execution_count": 13,
   "id": "a4d750b1-1eba-4636-9ec8-880b550cdab7",
   "metadata": {},
   "outputs": [],
   "source": [
    "results = choose_idx_ver3(caps, num_rolls = 80, seq_length = 50, max_attempts=1000)"
   ]
  },
  {
   "cell_type": "code",
   "execution_count": 14,
   "id": "9c22b2bc-3cd5-4883-8777-a3fd312679ad",
   "metadata": {},
   "outputs": [
    {
     "name": "stdout",
     "output_type": "stream",
     "text": [
      "[271, 52, 0, 465, 112]\n"
     ]
    },
    {
     "data": {
      "text/plain": [
       "['GTCGCCACGCCGCCGTCCTCGAAGTTCATCACGCGCTCCCACTTGAAGCC',\n",
       " 'CCCTCGCCCTCGATCTCGAACTCGTGGCCGTTCACGGTGCCCTCCATGCG',\n",
       " 'CCTTGAAGCGCATGAACTCCTTGATGACGTTCTTGGAGGAGCGCACCATG',\n",
       " 'CGCCGTCCTTCAGCTTCAGGGCCTTGTGGATCTCGCCCTTCAGCACGCCG',\n",
       " 'GGGCCGCCCTTGGTCACCTTCAGCTTCACGGTGTTGTGGCCCTCGTAGGG']"
      ]
     },
     "execution_count": 14,
     "metadata": {},
     "output_type": "execute_result"
    }
   ],
   "source": [
    "print(results[0])\n",
    "results[1]"
   ]
  },
  {
   "cell_type": "code",
   "execution_count": null,
   "id": "834b9a5d-8dcd-4b75-b39e-086b43e11ae4",
   "metadata": {},
   "outputs": [],
   "source": []
  },
  {
   "cell_type": "code",
   "execution_count": 251,
   "id": "0cda8066-44d9-4eec-ad76-5da4025a00d7",
   "metadata": {},
   "outputs": [],
   "source": [
    "gene_file = \"/nfs/turbo/umms-yangxa/Users/gbolden/python_code/mitotimer_fastas/MitoTimer_Gene.fa\"\n",
    "plasmid_file = \"/nfs/turbo/umms-yangxa/Users/gbolden/python_code/mitotimer_fastas/pMitoTimer.fa\""
   ]
  },
  {
   "cell_type": "code",
   "execution_count": 142,
   "id": "ba95ca5a-c40f-4884-9998-b714420df7fa",
   "metadata": {},
   "outputs": [
    {
     "name": "stdout",
     "output_type": "stream",
     "text": [
      "MitoTimer\n"
     ]
    }
   ],
   "source": [
    "with open(gene_file, \"r\") as file:\n",
    "    first_line = file.readline().strip()\n",
    "    if first_line.startswith(\">\"):\n",
    "        header = first_line[1:]\n",
    "    else:\n",
    "        header = first_line\n",
    "print(header)"
   ]
  },
  {
   "cell_type": "markdown",
   "id": "16c86685-565e-4e3d-ae89-3ac12a556aa6",
   "metadata": {},
   "source": [
    "**gene_id**: the ID of the mRNA target (any\n",
    "identifier)\n",
    "\n",
    "•**probe_seq**: combined LHS and RHS sequence\n",
    "trimmed to not include any adaptor, R2, or\n",
    "poly(A) sequences. Target mRNA sequence\n",
    "only.\n",
    "\n",
    "•**probe_id**: pipe-separated gene_id|gene_\n",
    "name|7 character hash (any combination of\n",
    "letters and numbers)\n",
    "\n",
    "•**included**: TRUE (will include in Space Ranger\n",
    "analysis)"
   ]
  },
  {
   "cell_type": "code",
   "execution_count": 253,
   "id": "8cef632d-0937-438c-a0ea-8c557319532a",
   "metadata": {},
   "outputs": [],
   "source": [
    "# writing out the probes\n",
    "gene_id = header\n",
    "gene_name = header\n",
    "included = \"TRUE\"\n",
    "def write_probe_table(seqs, gene_id, gene_name, start_tag_num, outfile):\n",
    "    with open(outfile, \"w\") as f:\n",
    "        for i, seq in enumerate(seqs):\n",
    "            tag = f\"{gene_id}|{gene_name}|8aab{start_tag_num + i}\"\n",
    "            line = f\"{gene_id},{seq},{tag},{included}\\n\"\n",
    "            f.write(line)"
   ]
  },
  {
   "cell_type": "code",
   "execution_count": 254,
   "id": "c5812eeb-9c5c-499b-bf1c-91faa77d3165",
   "metadata": {},
   "outputs": [],
   "source": [
    "filename = f\"custom_probes_{header}_{len(results[1])}.fa\"\n",
    "write_probe_table(results[1], gene_id, gene_name, 500, filename)"
   ]
  },
  {
   "cell_type": "code",
   "execution_count": null,
   "id": "a116369c-13e5-4dcd-af18-f40d141a69c8",
   "metadata": {},
   "outputs": [],
   "source": []
  }
 ],
 "metadata": {
  "kernelspec": {
   "display_name": "Python 3 (ipykernel)",
   "language": "python",
   "name": "python3"
  },
  "language_info": {
   "codemirror_mode": {
    "name": "ipython",
    "version": 3
   },
   "file_extension": ".py",
   "mimetype": "text/x-python",
   "name": "python",
   "nbconvert_exporter": "python",
   "pygments_lexer": "ipython3",
   "version": "3.11.9"
  }
 },
 "nbformat": 4,
 "nbformat_minor": 5
}
